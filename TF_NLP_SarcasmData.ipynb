{
  "nbformat": 4,
  "nbformat_minor": 0,
  "metadata": {
    "colab": {
      "name": "TF_NLP_SarcasmData.ipynb",
      "version": "0.3.2",
      "provenance": [],
      "collapsed_sections": [],
      "include_colab_link": true
    },
    "kernelspec": {
      "name": "python3",
      "display_name": "Python 3"
    },
    "accelerator": "GPU"
  },
  "cells": [
    {
      "cell_type": "markdown",
      "metadata": {
        "id": "view-in-github",
        "colab_type": "text"
      },
      "source": [
        "<a href=\"https://colab.research.google.com/github/nsp8/TensorFlow-NLP/blob/master/TF_NLP_SarcasmData.ipynb\" target=\"_parent\"><img src=\"https://colab.research.google.com/assets/colab-badge.svg\" alt=\"Open In Colab\"/></a>"
      ]
    },
    {
      "cell_type": "code",
      "metadata": {
        "id": "6tlQGcUvTtKS",
        "colab_type": "code",
        "colab": {
          "base_uri": "https://localhost:8080/",
          "height": 204
        },
        "outputId": "c82a2063-9f4e-46df-aef5-e8cbfd3e2247"
      },
      "source": [
        "!wget --no-check-certificate \\\n",
        "https://storage.googleapis.com/laurencemoroney-blog.appspot.com/sarcasm.json \\\n",
        "-O /tmp/sarcasm.json"
      ],
      "execution_count": 1,
      "outputs": [
        {
          "output_type": "stream",
          "text": [
            "--2019-09-14 11:23:17--  https://storage.googleapis.com/laurencemoroney-blog.appspot.com/sarcasm.json\n",
            "Resolving storage.googleapis.com (storage.googleapis.com)... 74.125.133.128, 2a00:1450:400c:c02::80\n",
            "Connecting to storage.googleapis.com (storage.googleapis.com)|74.125.133.128|:443... connected.\n",
            "HTTP request sent, awaiting response... 200 OK\n",
            "Length: 5643545 (5.4M) [application/json]\n",
            "Saving to: ‘/tmp/sarcasm.json’\n",
            "\n",
            "/tmp/sarcasm.json   100%[===================>]   5.38M  35.8MB/s    in 0.2s    \n",
            "\n",
            "2019-09-14 11:23:22 (35.8 MB/s) - ‘/tmp/sarcasm.json’ saved [5643545/5643545]\n",
            "\n"
          ],
          "name": "stdout"
        }
      ]
    },
    {
      "cell_type": "code",
      "metadata": {
        "id": "gFqo1Jk2XX2W",
        "colab_type": "code",
        "colab": {
          "base_uri": "https://localhost:8080/",
          "height": 34
        },
        "outputId": "18a7ec54-60c1-42cd-ab26-80bf0e910f2b"
      },
      "source": [
        "import json\n",
        "import tensorflow as tf\n",
        "print(tf.__version__)\n",
        "\n",
        "tf.enable_eager_execution()"
      ],
      "execution_count": 2,
      "outputs": [
        {
          "output_type": "stream",
          "text": [
            "1.14.0\n"
          ],
          "name": "stdout"
        }
      ]
    },
    {
      "cell_type": "code",
      "metadata": {
        "id": "N-wbHkFRbJ_V",
        "colab_type": "code",
        "colab": {}
      },
      "source": [
        "from tensorflow.keras.preprocessing.text import Tokenizer\n",
        "from tensorflow.keras.preprocessing.sequence import pad_sequences"
      ],
      "execution_count": 0,
      "outputs": []
    },
    {
      "cell_type": "code",
      "metadata": {
        "id": "4xpE35AayRqb",
        "colab_type": "code",
        "colab": {}
      },
      "source": [
        "from matplotlib import pyplot as plt\n",
        "\n",
        "\n",
        "def plot_graphs(history, string):\n",
        "    plt.plot(history.history[string])\n",
        "    plt.plot(history.history['val_'+string])\n",
        "    plt.xlabel('epochs')\n",
        "    plt.ylabel(string)\n",
        "    plt.legend([string, 'val_'+string])\n",
        "    plt.show()\n"
      ],
      "execution_count": 0,
      "outputs": []
    },
    {
      "cell_type": "code",
      "metadata": {
        "id": "nxOvQf9vcOwz",
        "colab_type": "code",
        "colab": {}
      },
      "source": [
        "with open('/tmp/sarcasm.json') as f:\n",
        "    datastore = json.load(f)\n",
        "\n",
        "sentences = []\n",
        "labels = []\n",
        "\n",
        "for item in datastore:\n",
        "    sentences.append(item['headline'])\n",
        "    labels.append(item['is_sarcastic'])"
      ],
      "execution_count": 0,
      "outputs": []
    },
    {
      "cell_type": "code",
      "metadata": {
        "id": "-LMxvPyNbvjP",
        "colab_type": "code",
        "colab": {}
      },
      "source": [
        "vocab_size = 1000 # prev: 10000\n",
        "embedding_dim = 20 # prev: 16 --- 16 -> 20 -> 24 -> 20\n",
        "max_length = 20 # prev: 32 -> 16 -> 20 -> 24 -> 16\n",
        "trunc_type = 'post'\n",
        "padding_type = 'post'\n",
        "oov_token = '<oov>'\n",
        "training_size = 20000"
      ],
      "execution_count": 0,
      "outputs": []
    },
    {
      "cell_type": "code",
      "metadata": {
        "id": "wCfmnNrSdBRN",
        "colab_type": "code",
        "colab": {}
      },
      "source": [
        "training_sentences, testing_sentences = sentences[0: training_size], sentences[training_size:]\n",
        "training_labels, testing_labels = labels[0: training_size], labels[training_size:]"
      ],
      "execution_count": 0,
      "outputs": []
    },
    {
      "cell_type": "code",
      "metadata": {
        "id": "Dclh8y25oBqT",
        "colab_type": "code",
        "colab": {}
      },
      "source": [
        "tokenizer = Tokenizer(num_words=vocab_size, oov_token=oov_token)\n",
        "tokenizer.fit_on_texts(training_sentences)\n",
        "word_index = tokenizer.word_index"
      ],
      "execution_count": 0,
      "outputs": []
    },
    {
      "cell_type": "code",
      "metadata": {
        "id": "gd1Fqlnho6xj",
        "colab_type": "code",
        "colab": {}
      },
      "source": [
        "training_sequences = tokenizer.texts_to_sequences(training_sentences)\n",
        "training_padded = pad_sequences(training_sequences, \n",
        "                                maxlen=max_length,\n",
        "                                padding=padding_type,\n",
        "                                truncating=trunc_type)"
      ],
      "execution_count": 0,
      "outputs": []
    },
    {
      "cell_type": "code",
      "metadata": {
        "id": "zNsJNKszo8Il",
        "colab_type": "code",
        "colab": {}
      },
      "source": [
        "testing_sequences = tokenizer.texts_to_sequences(testing_sentences)\n",
        "testing_padded = pad_sequences(testing_sequences,\n",
        "                               maxlen=max_length,\n",
        "                               padding=padding_type,\n",
        "                               truncating=trunc_type)"
      ],
      "execution_count": 0,
      "outputs": []
    },
    {
      "cell_type": "code",
      "metadata": {
        "id": "GJQlq811rAFM",
        "colab_type": "code",
        "colab": {}
      },
      "source": [
        "model = tf.keras.Sequential([\n",
        "            tf.keras.layers.Embedding(vocab_size, \n",
        "                                      embedding_dim, \n",
        "                                      input_length=max_length),\n",
        "            tf.keras.layers.GlobalAveragePooling1D(),\n",
        "            tf.keras.layers.Dense(24, activation='relu'),\n",
        "            tf.keras.layers.Dense(1, activation='sigmoid')\n",
        "])"
      ],
      "execution_count": 0,
      "outputs": []
    },
    {
      "cell_type": "code",
      "metadata": {
        "id": "bPAI65jPsaCE",
        "colab_type": "code",
        "colab": {}
      },
      "source": [
        "model.compile(loss='binary_crossentropy',optimizer='adam',metrics=['accuracy'])"
      ],
      "execution_count": 0,
      "outputs": []
    },
    {
      "cell_type": "code",
      "metadata": {
        "id": "v1DQMyP1srvX",
        "colab_type": "code",
        "colab": {
          "base_uri": "https://localhost:8080/",
          "height": 289
        },
        "outputId": "774fadfb-7182-4e8f-8931-001d1581cee7"
      },
      "source": [
        "model.summary()"
      ],
      "execution_count": 164,
      "outputs": [
        {
          "output_type": "stream",
          "text": [
            "Model: \"sequential_19\"\n",
            "_________________________________________________________________\n",
            "Layer (type)                 Output Shape              Param #   \n",
            "=================================================================\n",
            "embedding_19 (Embedding)     (None, 20, 20)            20000     \n",
            "_________________________________________________________________\n",
            "global_average_pooling1d_17  (None, 20)                0         \n",
            "_________________________________________________________________\n",
            "dense_38 (Dense)             (None, 24)                504       \n",
            "_________________________________________________________________\n",
            "dense_39 (Dense)             (None, 1)                 25        \n",
            "=================================================================\n",
            "Total params: 20,529\n",
            "Trainable params: 20,529\n",
            "Non-trainable params: 0\n",
            "_________________________________________________________________\n"
          ],
          "name": "stdout"
        }
      ]
    },
    {
      "cell_type": "code",
      "metadata": {
        "id": "IvLitCCJs06C",
        "colab_type": "code",
        "colab": {
          "base_uri": "https://localhost:8080/",
          "height": 374
        },
        "outputId": "c4d8d577-ce3f-4762-abba-caf33168679f"
      },
      "source": [
        "num_epochs = 10\n",
        "history = model.fit(training_padded, training_labels, epochs=num_epochs, \n",
        "                    validation_data=(testing_padded, testing_labels),\n",
        "                    verbose=2)"
      ],
      "execution_count": 165,
      "outputs": [
        {
          "output_type": "stream",
          "text": [
            "Train on 20000 samples, validate on 6709 samples\n",
            "Epoch 1/10\n",
            "20000/20000 - 3s - loss: 0.5281 - acc: 0.7276 - val_loss: 0.4128 - val_acc: 0.8100\n",
            "Epoch 2/10\n",
            "20000/20000 - 3s - loss: 0.3790 - acc: 0.8265 - val_loss: 0.4037 - val_acc: 0.8147\n",
            "Epoch 3/10\n",
            "20000/20000 - 3s - loss: 0.3635 - acc: 0.8346 - val_loss: 0.3993 - val_acc: 0.8129\n",
            "Epoch 4/10\n",
            "20000/20000 - 3s - loss: 0.3573 - acc: 0.8368 - val_loss: 0.4013 - val_acc: 0.8128\n",
            "Epoch 5/10\n",
            "20000/20000 - 3s - loss: 0.3539 - acc: 0.8408 - val_loss: 0.4066 - val_acc: 0.8126\n",
            "Epoch 6/10\n",
            "20000/20000 - 3s - loss: 0.3520 - acc: 0.8394 - val_loss: 0.4093 - val_acc: 0.8113\n",
            "Epoch 7/10\n",
            "20000/20000 - 3s - loss: 0.3502 - acc: 0.8406 - val_loss: 0.4037 - val_acc: 0.8143\n",
            "Epoch 8/10\n",
            "20000/20000 - 3s - loss: 0.3472 - acc: 0.8414 - val_loss: 0.4017 - val_acc: 0.8150\n",
            "Epoch 9/10\n",
            "20000/20000 - 3s - loss: 0.3443 - acc: 0.8431 - val_loss: 0.4019 - val_acc: 0.8152\n",
            "Epoch 10/10\n",
            "20000/20000 - 3s - loss: 0.3400 - acc: 0.8442 - val_loss: 0.3971 - val_acc: 0.8176\n"
          ],
          "name": "stdout"
        }
      ]
    },
    {
      "cell_type": "code",
      "metadata": {
        "id": "TIsPP6iry9gv",
        "colab_type": "code",
        "colab": {
          "base_uri": "https://localhost:8080/",
          "height": 549
        },
        "outputId": "5affd5ef-34dc-43a5-f6b0-f1b59dfb59d1"
      },
      "source": [
        "plot_graphs(history, 'acc')\n",
        "plot_graphs(history, 'loss')"
      ],
      "execution_count": 166,
      "outputs": [
        {
          "output_type": "display_data",
          "data": {
            "image/png": "[encoded data removed]",
            "text/plain": [
              "<Figure size 432x288 with 1 Axes>"
            ]
          },
          "metadata": {
            "tags": []
          }
        },
        {
          "output_type": "display_data",
          "data": {
            "image/png": "[encoded data removed]",
            "text/plain": [
              "<Figure size 432x288 with 1 Axes>"
            ]
          },
          "metadata": {
            "tags": []
          }
        }
      ]
    },
    {
      "cell_type": "code",
      "metadata": {
        "id": "6wGSmAoXzCuP",
        "colab_type": "code",
        "colab": {}
      },
      "source": [
        ""
      ],
      "execution_count": 0,
      "outputs": []
    }
  ]
}